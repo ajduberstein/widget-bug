{
 "cells": [
  {
   "cell_type": "code",
   "execution_count": 2,
   "metadata": {},
   "outputs": [
    {
     "data": {
      "text/html": [
       "\n",
       "        <iframe\n",
       "            width=\"700\"\n",
       "            height=\"500\"\n",
       "            src=\"./custom_layer.html\"\n",
       "            frameborder=\"0\"\n",
       "            allowfullscreen\n",
       "        ></iframe>\n",
       "        "
      ],
      "text/plain": [
       "<IPython.lib.display.IFrame at 0x10db560d0>"
      ]
     },
     "metadata": {},
     "output_type": "display_data"
    },
    {
     "data": {
      "text/plain": [
       "'/Users/duberstein@uber.com/Desktop/pydeck_others/notebook-demo/custom_layer.html'"
      ]
     },
     "execution_count": 2,
     "metadata": {},
     "output_type": "execute_result"
    }
   ],
   "source": [
    "import pydeck\n",
    "\n",
    "\"\"\"\n",
    "CustomLayer\n",
    "===========\n",
    "\n",
    "A custom layer named LabeledGeoJsonLayer copied from this Observable Notebook for use in pydeck:\n",
    "\n",
    "https://observablehq.com/@pessimistress/deck-gl-custom-layer-tutorial\n",
    "\n",
    "Registering a custom layer requires some knowledge of JavaScript and bundling.\n",
    "See https://github.com/ajduberstein/pydeck_custom_layer for a minimal example layer.\n",
    "\"\"\"\n",
    "\n",
    "import pydeck\n",
    "\n",
    "pydeck.settings.custom_libraries = [\n",
    "    {\n",
    "        \"libraryName\": \"LabeledGeoJsonLayerLibrary\",\n",
    "        \"resourceUri\": \"https://unpkg.com/pydeck-custom-layer-demo@0.0.1/dist/bundle.js\",\n",
    "    }\n",
    "]\n",
    "\n",
    "DATA_URL = \"https://raw.githubusercontent.com/johan/world.geo.json/master/countries.geo.json\"\n",
    "\n",
    "custom_layer = pydeck.Layer(\n",
    "    \"LabeledGeoJsonLayer\",\n",
    "    data=DATA_URL,\n",
    "    filled=False,\n",
    "    billboard=False,\n",
    "    get_line_color=[180, 180, 180],\n",
    "    get_label=\"properties.name\",\n",
    "    get_label_size=200000,\n",
    "    get_label_color=[0, 255, 255],\n",
    "    label_size_units='\"meters\"',\n",
    "    line_width_min_pixels=1,\n",
    ")\n",
    "\n",
    "view_state = pydeck.ViewState(latitude=0, longitude=0, zoom=1)\n",
    "\n",
    "r = pydeck.Deck(custom_layer, initial_view_state=view_state, map_style=\"\",)\n",
    "\n",
    "r.to_html(\"custom_layer.html\", css_background_color=\"#333\")"
   ]
  },
  {
   "cell_type": "code",
   "execution_count": 3,
   "metadata": {},
   "outputs": [
    {
     "data": {
      "application/vnd.jupyter.widget-view+json": {
       "model_id": "1d7d3597b92e4b7bae2d24be3bf7ebb5",
       "version_major": 2,
       "version_minor": 0
      },
      "text/plain": [
       "DeckGLWidget(custom_libraries=[{'libraryName': 'LabeledGeoJsonLayerLibrary', 'resourceUri': 'https://unpkg.com…"
      ]
     },
     "metadata": {},
     "output_type": "display_data"
    }
   ],
   "source": [
    "r.show()"
   ]
  }
 ],
 "metadata": {
  "kernelspec": {
   "display_name": "Python 3",
   "language": "python",
   "name": "python3"
  },
  "language_info": {
   "codemirror_mode": {
    "name": "ipython",
    "version": 3
   },
   "file_extension": ".py",
   "mimetype": "text/x-python",
   "name": "python",
   "nbconvert_exporter": "python",
   "pygments_lexer": "ipython3",
   "version": "3.7.7"
  }
 },
 "nbformat": 4,
 "nbformat_minor": 2
}
